{
 "cells": [
  {
   "cell_type": "code",
   "execution_count": 5,
   "metadata": {
    "_kg_hide-input": true
   },
   "outputs": [],
   "source": [
    "import numpy as np\n",
    "import pandas as pd\n",
    "import matplotlib.pyplot as plt\n",
    "import plotly.express as px\n",
    "import seaborn as sns\n",
    "from wordcloud import WordCloud\n",
    "from matplotlib.patheffects import withStroke"
   ]
  },
  {
   "cell_type": "code",
   "execution_count": 6,
   "metadata": {
    "_kg_hide-input": true
   },
   "outputs": [
    {
     "ename": "NameError",
     "evalue": "name 'upwork' is not defined",
     "output_type": "error",
     "traceback": [
      "\u001b[1;31m---------------------------------------------------------------------------\u001b[0m",
      "\u001b[1;31mNameError\u001b[0m                                 Traceback (most recent call last)",
      "\u001b[1;32md:\\workspace\\ai\\工作数据分析.ipynb 单元格 2\u001b[0m line \u001b[0;36m1\n\u001b[1;32m----> <a href='vscode-notebook-cell:/d%3A/workspace/ai/%E5%B7%A5%E4%BD%9C%E6%95%B0%E6%8D%AE%E5%88%86%E6%9E%90.ipynb#W1sZmlsZQ%3D%3D?line=0'>1</a>\u001b[0m upwork\u001b[39m.\u001b[39misnull()\u001b[39m.\u001b[39msum()\n",
      "\u001b[1;31mNameError\u001b[0m: name 'upwork' is not defined"
     ]
    }
   ],
   "source": [
    "upwork.isnull().sum()"
   ]
  },
  {
   "cell_type": "code",
   "execution_count": 7,
   "metadata": {
    "_kg_hide-input": true
   },
   "outputs": [
    {
     "ename": "NameError",
     "evalue": "name 'upwork' is not defined",
     "output_type": "error",
     "traceback": [
      "\u001b[1;31m---------------------------------------------------------------------------\u001b[0m",
      "\u001b[1;31mNameError\u001b[0m                                 Traceback (most recent call last)",
      "\u001b[1;32md:\\workspace\\ai\\工作数据分析.ipynb 单元格 3\u001b[0m line \u001b[0;36m2\n\u001b[0;32m      <a href='vscode-notebook-cell:/d%3A/workspace/ai/%E5%B7%A5%E4%BD%9C%E6%95%B0%E6%8D%AE%E5%88%86%E6%9E%90.ipynb#W2sZmlsZQ%3D%3D?line=0'>1</a>\u001b[0m \u001b[39m# keeping orginal data the 0 set\u001b[39;00m\n\u001b[1;32m----> <a href='vscode-notebook-cell:/d%3A/workspace/ai/%E5%B7%A5%E4%BD%9C%E6%95%B0%E6%8D%AE%E5%88%86%E6%9E%90.ipynb#W2sZmlsZQ%3D%3D?line=1'>2</a>\u001b[0m upwork0 \u001b[39m=\u001b[39m upwork\u001b[39m.\u001b[39mcopy()\n",
      "\u001b[1;31mNameError\u001b[0m: name 'upwork' is not defined"
     ]
    }
   ],
   "source": [
    "# keeping orginal data the 0 set\n",
    "upwork0 = upwork.copy()"
   ]
  },
  {
   "cell_type": "code",
   "execution_count": null,
   "metadata": {
    "_kg_hide-input": true
   },
   "outputs": [],
   "source": [
    "pd.set_option('display.max_colwidth', None)\n"
   ]
  },
  {
   "cell_type": "code",
   "execution_count": null,
   "metadata": {
    "_kg_hide-input": true
   },
   "outputs": [],
   "source": [
    "pd.reset_option('display.max_colwidth')"
   ]
  },
  {
   "cell_type": "code",
   "execution_count": null,
   "metadata": {},
   "outputs": [],
   "source": [
    "upwork.iloc[1, :]"
   ]
  },
  {
   "cell_type": "markdown",
   "metadata": {},
   "source": [
    "Extracting the URL columns names to drop "
   ]
  },
  {
   "cell_type": "code",
   "execution_count": null,
   "metadata": {},
   "outputs": [],
   "source": [
    "url_cols = []\n",
    "for col in upwork.columns:\n",
    "    splited = col.split('_')\n",
    "    try:\n",
    "        if splited[1] == \"URL\":\n",
    "            url_cols.append(col)\n",
    "    except:\n",
    "        continue\n",
    "url_cols"
   ]
  },
  {
   "cell_type": "code",
   "execution_count": null,
   "metadata": {},
   "outputs": [],
   "source": [
    "upwork.drop(columns=url_cols, inplace=True)"
   ]
  },
  {
   "cell_type": "code",
   "execution_count": null,
   "metadata": {},
   "outputs": [],
   "source": [
    "upwork.iloc[np.random.randint(0, upwork.shape[0]), :]"
   ]
  },
  {
   "cell_type": "code",
   "execution_count": null,
   "metadata": {},
   "outputs": [],
   "source": [
    "upwork.isnull().sum()"
   ]
  },
  {
   "cell_type": "code",
   "execution_count": null,
   "metadata": {
    "_kg_hide-input": true
   },
   "outputs": [],
   "source": [
    "def draw_wordcloud(colName, df, width=800, height=400, background_color='white'):\n",
    "    \"\"\"\n",
    "    从DataFrame的一列中绘制词云。\n",
    "\n",
    "    参数:\n",
    "    colName (str): 要从中绘制词云的列的名称。\n",
    "    df (pandas.DataFrame): 包含数据的DataFrame。\n",
    "    width (int): 词云图像的宽度。\n",
    "    height (int): 词云图像的高度。\n",
    "    background_color (str): 词云图像的背景颜色。\n",
    "    \"\"\"\n",
    "    # 检查列名是否有效\n",
    "    if colName not in df.columns:\n",
    "        raise ValueError(f\"列名 '{colName}' 在DataFrame中不存在。\")\n",
    "\n",
    "    # 检查DataFrame是否为空\n",
    "    if df.empty:\n",
    "        raise ValueError(\"DataFrame为空。\")\n",
    "\n",
    "    # 将指定列的非空值连接成一个字符串\n",
    "    text_data = \" \".join(df[colName].dropna())\n",
    "\n",
    "    # 创建一个WordCloud对象\n",
    "    wordcloud = WordCloud(width=width, height=height, background_color=background_color).generate(text_data)\n",
    "\n",
    "    # 使用matplotlib显示词云\n",
    "    plt.figure(figsize=(10, 5), dpi=150)\n",
    "    plt.imshow(wordcloud, interpolation='bilinear')\n",
    "    plt.axis('off')\n",
    "    plt.show()"
   ]
  },
  {
   "cell_type": "code",
   "execution_count": null,
   "metadata": {},
   "outputs": [],
   "source": [
    "draw_wordcloud(\"Job Title\")"
   ]
  },
  {
   "cell_type": "code",
   "execution_count": null,
   "metadata": {
    "_kg_hide-input": true
   },
   "outputs": [],
   "source": [
    "draw_wordcloud(\"Description\")"
   ]
  },
  {
   "cell_type": "code",
   "execution_count": null,
   "metadata": {
    "_kg_hide-input": true
   },
   "outputs": [],
   "source": [
    "draw_wordcloud(\"Search_Keyword\")"
   ]
  },
  {
   "cell_type": "code",
   "execution_count": null,
   "metadata": {},
   "outputs": [],
   "source": [
    "# we can see it has low cardinallity values few search keywords\n",
    "# most search keywords are Developer then Marketing\n",
    "upwork[\"Search_Keyword\"].value_counts()"
   ]
  },
  {
   "cell_type": "code",
   "execution_count": null,
   "metadata": {},
   "outputs": [],
   "source": [
    "# we have runied values \n",
    "# let's set them to \"Intermediate\"\n",
    "upwork[\"EX_level_demand\"].value_counts()"
   ]
  },
  {
   "cell_type": "code",
   "execution_count": null,
   "metadata": {},
   "outputs": [],
   "source": [
    "upwork.loc[upwork[\"EX_level_demand\"].str.startswith(\"Est\"), [\"EX_level_demand\"]] = \"Intermediate\"\n",
    "upwork[\"EX_level_demand\"].value_counts()"
   ]
  },
  {
   "cell_type": "code",
   "execution_count": null,
   "metadata": {},
   "outputs": [],
   "source": [
    "px.sunburst(data_frame=upwork, path=[\"EX_level_demand\"])"
   ]
  },
  {
   "cell_type": "code",
   "execution_count": null,
   "metadata": {},
   "outputs": [],
   "source": [
    "draw_wordcloud(\"Category_9\")"
   ]
  },
  {
   "cell_type": "code",
   "execution_count": null,
   "metadata": {},
   "outputs": [],
   "source": [
    "catcols = []\n",
    "for col in upwork.columns:\n",
    "    if col.startswith(\"Category\"):\n",
    "        catcols.append(col)\n",
    "\n",
    "catcols"
   ]
  },
  {
   "cell_type": "code",
   "execution_count": null,
   "metadata": {},
   "outputs": [],
   "source": [
    "text_data = \" \"\n",
    "for col in catcols:\n",
    "    text_data += \" \".join(upwork[col].dropna())\n",
    "\n",
    "# Create a WordCloud object\n",
    "wordcloud = WordCloud(width=800, height=400, background_color='white').generate(text_data)\n",
    "\n",
    "# Display the word cloud using matplotlib\n",
    "plt.figure(figsize=(10, 5), dpi=150)\n",
    "plt.imshow(wordcloud, interpolation='bilinear')\n",
    "plt.axis('off')\n",
    "plt.show()"
   ]
  },
  {
   "cell_type": "code",
   "execution_count": null,
   "metadata": {},
   "outputs": [],
   "source": [
    "upwork[\"Category_1\"].value_counts()"
   ]
  },
  {
   "cell_type": "code",
   "execution_count": null,
   "metadata": {},
   "outputs": [],
   "source": [
    "upwork[\"Client_Country\"].value_counts().reset_index()"
   ]
  },
  {
   "cell_type": "code",
   "execution_count": null,
   "metadata": {
    "_kg_hide-input": true,
    "_kg_hide-output": true
   },
   "outputs": [],
   "source": [
    "# pd.reset_option('display.max_row')\n",
    "upwork.Client_Country.unique()"
   ]
  },
  {
   "cell_type": "code",
   "execution_count": null,
   "metadata": {
    "_kg_hide-input": true
   },
   "outputs": [],
   "source": [
    "country_name_to_code = {\n",
    "    'United States': 'US',\n",
    "    'Canada': 'CA',\n",
    "    'Australia': 'AU',\n",
    "    'Poland': 'PL',\n",
    "    'Pakistan': 'PK',\n",
    "    'Bolivia': 'BO',\n",
    "    'Germany': 'DE',\n",
    "    'Israel': 'IL',\n",
    "    'India': 'IN',\n",
    "    'Turkey': 'TR',\n",
    "    'United Kingdom': 'GB',\n",
    "    'Finland': 'FI',\n",
    "    'France': 'FR',\n",
    "    'Nigeria': 'NG',\n",
    "    'Switzerland': 'CH',\n",
    "    'Netherlands': 'NL',\n",
    "    'China': 'CN',\n",
    "    'Ecuador': 'EC',\n",
    "    'Brazil': 'BR',\n",
    "    'Hong Kong': 'HK',\n",
    "    'Italy': 'IT',\n",
    "    'Portugal': 'PT',\n",
    "    'Romania': 'RO',\n",
    "    'Nepal': 'NP',\n",
    "    'United Arab Emirates': 'AE',\n",
    "    'Ukraine': 'UA',\n",
    "    'Bangladesh': 'BD',\n",
    "    'Argentina': 'AR',\n",
    "    'Belgium': 'BE',\n",
    "    'Egypt': 'EG',\n",
    "    'South Africa': 'ZA',\n",
    "    'Bahrain': 'BH',\n",
    "    'Spain': 'ES',\n",
    "    'Indonesia': 'ID',\n",
    "    'Kenya': 'KE',\n",
    "    'Hungary': 'HU',\n",
    "    'Singapore': 'SG',\n",
    "    'New Zealand': 'NZ',\n",
    "    'Seychelles': 'SC',\n",
    "    'Thailand': 'TH',\n",
    "    'Lebanon': 'LB',\n",
    "    'Taiwan': 'TW',\n",
    "    'Philippines': 'PH',\n",
    "    'Malaysia': 'MY',\n",
    "    'Mexico': 'MX',\n",
    "    'Sweden': 'SE',\n",
    "    'Ireland': 'IE',\n",
    "    'Saudi Arabia': 'SA',\n",
    "    'Puerto Rico': 'PR',\n",
    "    'Latvia': 'LV',\n",
    "    'Czech Republic': 'CZ',\n",
    "    'Georgia': 'GE',\n",
    "    'Denmark': 'DK',\n",
    "    'South Korea': 'KR',\n",
    "    'Japan': 'JP',\n",
    "    'Colombia': 'CO',\n",
    "    'Cyprus': 'CY',\n",
    "    'Qatar': 'QA',\n",
    "    'Slovenia': 'SI',\n",
    "    'Guyana': 'GY',\n",
    "    'Iceland': 'IS',\n",
    "    'Estonia': 'EE',\n",
    "    'Tanzania': 'TZ',\n",
    "    'Croatia': 'HR',\n",
    "    'Guatemala': 'GT',\n",
    "    'Bulgaria': 'BG',\n",
    "    'Tunisia': 'TN',\n",
    "    'Kuwait': 'KW',\n",
    "    'Jordan': 'JO',\n",
    "    'Trinidad and Tobago': 'TT',\n",
    "    'Macedonia': 'MK',\n",
    "    'Albania': 'AL',\n",
    "    'Norway': 'NO',\n",
    "    'San Marino': 'SM',\n",
    "    'Oman': 'OM',\n",
    "    'Greece': 'GR',\n",
    "    'Kazakhstan': 'KZ',\n",
    "    'Venezuela': 'VE',\n",
    "    'Uzbekistan': 'UZ',\n",
    "    'Peru': 'PE',\n",
    "    'Austria': 'AT',\n",
    "    'Ethiopia': 'ET',\n",
    "    'Sri Lanka': 'LK',\n",
    "    'Vietnam': 'VN',\n",
    "    'Serbia': 'RS',\n",
    "    'Chile': 'CL',\n",
    "    'Luxembourg': 'LU',\n",
    "    'Malta': 'MT',\n",
    "    'Lithuania': 'LT',\n",
    "    'Panama': 'PA',\n",
    "    'Morocco': 'MA',\n",
    "    'Yemen': 'YE',\n",
    "    'Azerbaijan': 'AZ',\n",
    "    'Armenia': 'AM',\n",
    "    'Dominican Republic': 'DO',\n",
    "    'Uruguay': 'UY',\n",
    "    'American Samoa': 'AS',\n",
    "    'Togo': 'TG',\n",
    "    'Moldova': 'MD',\n",
    "    'Maldives': 'MV',\n",
    "    'Jamaica': 'JM',\n",
    "    'Liechtenstein': 'LI',\n",
    "    'Slovakia': 'SK',\n",
    "    'Ghana': 'GH',\n",
    "    'Costa Rica': 'CR',\n",
    "    'Congo, the Democratic Republic of the': 'CD',\n",
    "    'Honduras': 'HN',\n",
    "    'Belarus': 'BY',\n",
    "    'Cayman Islands': 'KY',\n",
    "    'Haiti': 'HT',\n",
    "    'Guam': 'GU',\n",
    "    'Aland Islands': 'AX',\n",
    "    'Kyrgyzstan': 'KG',\n",
    "    'Zimbabwe': 'ZW',\n",
    "    'Algeria': 'DZ',\n",
    "    'Grenada': 'GD',\n",
    "    'Uganda': 'UG',\n",
    "    'Netherlands Antilles': 'AN',\n",
    "    'New Caledonia': 'NC',\n",
    "    'Bosnia and Herzegovina': 'BA',\n",
    "    'Namibia': 'NA',\n",
    "    'Rwanda': 'RW',\n",
    "    'Russia': 'RU',\n",
    "    'Mauritius': 'MU',\n",
    "    'Monaco': 'MC',\n",
    "    'El Salvador': 'SV',\n",
    "    'Macao': 'MO',\n",
    "    'Bahamas': 'BS',\n",
    "    'Mongolia': 'MN',\n",
    "    'Aruba': 'AW',\n",
    "    'Cameroon': 'CM',\n",
    "    'Palestinian Territories': 'PS',\n",
    "    'Cambodia': 'KH',\n",
    "    'Botswana': 'BW',\n",
    "    'Isle of Man': 'IM',\n",
    "    'Mozambique': 'MZ',\n",
    "    'Burkina Faso': 'BF',\n",
    "    'Cook Islands': 'CK',\n",
    "    'Angola': 'AO',\n",
    "    'Gibraltar': 'GI',\n",
    "    \"Cote d'Ivoire\": 'CI',\n",
    "    'Bermuda': 'BM',\n",
    "    'Micronesia, Federated States of': 'FM',\n",
    "    'Saint Vincent and the Grenadines': 'VC',\n",
    "    'Somalia': 'SO',\n",
    "    'Barbados': 'BB',\n",
    "    'Guinea': 'GN',\n",
    "    'Saint Martin (French part)': 'MF',\n",
    "    'Suriname': 'SR',\n",
    "    'Turkmenistan': 'TM',\n",
    "    'Gambia': 'GM',\n",
    "    'Curacao': 'CW',\n",
    "    'Swaziland': 'SZ',\n",
    "    'Jersey': 'JE',\n",
    "    'Guadeloupe': 'GP',\n",
    "    'United States Virgin Islands': 'VI',\n",
    "    'Mali': 'ML',\n",
    "    'Saint Lucia': 'LC',\n",
    "    'Sierra Leone': 'SL',\n",
    "    'Andorra': 'AD',\n",
    "    'British Virgin Islands': 'VG',\n",
    "    'Benin': 'BJ',\n",
    "    'Montenegro': 'ME',\n",
    "    'Paraguay': 'PY',\n",
    "    'Nicaragua': 'NI',\n",
    "    'Senegal': 'SN',\n",
    "    'United States Minor Outlying Islands': 'UM',\n",
    "    'Saint Kitts and Nevis': 'KN',\n",
    "    'Anguilla': 'AI',\n",
    "    'Belize': 'BZ',\n",
    "    'Greenland': 'GL',\n",
    "    'Myanmar': 'MM',\n",
    "    'Antigua and Barbuda': 'AG',\n",
    "    'Tajikistan': 'TJ',\n",
    "    'Papua New Guinea': 'PG',\n",
    "    'Zambia': 'ZM',\n",
    "    'British Indian Ocean Territory': 'IO',\n",
    "    'Samoa': 'WS',\n",
    "    'Northern Mariana Islands': 'MP',\n",
    "    'Sint Maarten (Dutch part)': 'SX',\n",
    "    'Laos': 'LA',\n",
    "    'Guernsey': 'GG',\n",
    "    'Brunei Darussalam': 'BN',\n",
    "    'Turks and Caicos Islands': 'TC',\n",
    "    'Malawi': 'MW',\n",
    "    'Fiji': 'FJ',\n",
    "    'Niger': 'NE',\n",
    "}\n"
   ]
  },
  {
   "cell_type": "code",
   "execution_count": null,
   "metadata": {},
   "outputs": [],
   "source": [
    "upwork[\"country_code\"] = upwork[\"Client_Country\"].map(country_name_to_code)"
   ]
  },
  {
   "cell_type": "code",
   "execution_count": null,
   "metadata": {},
   "outputs": [],
   "source": [
    "upwork.Client_Country.isnull().sum()"
   ]
  },
  {
   "cell_type": "code",
   "execution_count": null,
   "metadata": {},
   "outputs": [],
   "source": [
    "countries_to_map = upwork[\"country_code\"].value_counts().reset_index()\n",
    "countries_to_map"
   ]
  },
  {
   "cell_type": "code",
   "execution_count": null,
   "metadata": {},
   "outputs": [],
   "source": [
    "code_to_country = {v: k for k, v in country_name_to_code.items()}\n",
    "countries_to_map[\"countries\"] = countries_to_map[\"country_code\"].map(code_to_country)\n",
    "countries_to_map"
   ]
  },
  {
   "cell_type": "code",
   "execution_count": null,
   "metadata": {
    "_kg_hide-input": true
   },
   "outputs": [],
   "source": [
    "# Create a choropleth map using Plotly Express\n",
    "fig = px.choropleth(countries_to_map, \n",
    "                    locations=\"countries\",\n",
    "                    color= \"count\",\n",
    "                    hover_name=\"countries\",  \n",
    "                    color_continuous_scale=\"viridis\",  \n",
    "                    locationmode=\"country names\",\n",
    "                    title=\"Jobs count\")\n",
    "\n",
    "fig.update_geos(projection_type=\"kavrayskiy7\", showcoastlines=True, coastlinecolor=\"Black\")\n",
    "\n",
    "# Show the map\n",
    "fig.show()\n"
   ]
  },
  {
   "cell_type": "code",
   "execution_count": null,
   "metadata": {
    "_kg_hide-input": true
   },
   "outputs": [],
   "source": [
    "top10countries = countries_to_map.sort_values(by=\"count\", ascending=False).iloc[:10, :]\n",
    "top10countries"
   ]
  },
  {
   "cell_type": "code",
   "execution_count": null,
   "metadata": {
    "_kg_hide-input": true
   },
   "outputs": [],
   "source": [
    "plt.figure(figsize=(12, 6), dpi=150)\n",
    "\n",
    "custom_colors = ['#ffcccc','#fcb0b1','#ff9999','#ff6666']\n",
    "ax = sns.barplot(data=top10countries, x=\"countries\", y=\"count\", palette=custom_colors) \n",
    "plt.xticks(rotation=45)\n",
    "\n",
    "# Define the outline effect\n",
    "outline_effect = [withStroke(linewidth=3, foreground='Black')]\n",
    "\n",
    "for idx, p in enumerate(ax.patches):\n",
    "    ax.annotate(str(int(p.get_height())), (p.get_x() + p.get_width() / 2., p.get_height()), ha='center', va='center', fontsize=15, fontweight=\"bold\", path_effects=outline_effect, color='salmon', xytext=(0, 5), textcoords='offset points')\n",
    "\n",
    "plt.show()"
   ]
  },
  {
   "cell_type": "code",
   "execution_count": null,
   "metadata": {
    "_kg_hide-input": true
   },
   "outputs": [],
   "source": [
    "upwork.Payment_type.value_counts().reset_index()"
   ]
  }
 ],
 "metadata": {
  "kernelspec": {
   "display_name": "Python 3",
   "language": "python",
   "name": "python3"
  },
  "language_info": {
   "codemirror_mode": {
    "name": "ipython",
    "version": 3
   },
   "file_extension": ".py",
   "mimetype": "text/x-python",
   "name": "python",
   "nbconvert_exporter": "python",
   "pygments_lexer": "ipython3",
   "version": "3.10.10"
  }
 },
 "nbformat": 4,
 "nbformat_minor": 4
}
